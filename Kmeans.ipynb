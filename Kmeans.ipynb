{
 "cells": [
  {
   "cell_type": "code",
   "execution_count": 40,
   "metadata": {},
   "outputs": [
    {
     "data": {
      "text/plain": [
       "'C:/spark'"
      ]
     },
     "execution_count": 40,
     "metadata": {},
     "output_type": "execute_result"
    }
   ],
   "source": [
    "#1- Instancier le client Spark Session.\n",
    "import findspark\n",
    "findspark.init(\"C:/spark\")\n",
    "import pyspark \n",
    "findspark.find()"
   ]
  },
  {
   "cell_type": "code",
   "execution_count": 42,
   "metadata": {},
   "outputs": [],
   "source": [
    "#importer des librairies\n",
    "from pyspark.sql import SparkSession\n",
    "from pyspark.sql import functions as F\n",
    "from pyspark.ml.feature import VectorAssembler\n",
    "from pyspark.ml.clustering import KMeans\n",
    "import numpy as np\n",
    "import pandas as pd\n",
    "import configparser"
   ]
  },
  {
   "cell_type": "code",
   "execution_count": 43,
   "metadata": {},
   "outputs": [],
   "source": [
    "spark = SparkSession.builder \\\n",
    "                    .master(\"local\") \\\n",
    "                    .appName(\"Kmeans\") \\\n",
    "                    .getOrCreate()\n"
   ]
  },
  {
   "cell_type": "code",
   "execution_count": 53,
   "metadata": {},
   "outputs": [],
   "source": [
    "# 2- Créer un fichier properties.conf contenant les informations relatives à vos paramètres du programme en dur.\n",
    "fichier = open('properties.conf','w')\n",
    "fichier.write(\"[Bristol-City-bike]\\n\")\n",
    "fichier.write(\"Input-data=data/Bristol-city-bike.json\\n\")\n",
    "fichier.write(\"Output-data=exported\\n\")\n",
    "fichier.write(\"Kmeans-level=3\")\n",
    "fichier.close()"
   ]
  },
  {
   "cell_type": "code",
   "execution_count": 54,
   "metadata": {},
   "outputs": [
    {
     "data": {
      "text/plain": [
       "['properties.conf']"
      ]
     },
     "execution_count": 54,
     "metadata": {},
     "output_type": "execute_result"
    }
   ],
   "source": [
    "config = configparser.ConfigParser()\n",
    "config.read(\"properties.conf\")\n"
   ]
  },
  {
   "cell_type": "code",
   "execution_count": 55,
   "metadata": {},
   "outputs": [],
   "source": [
    "path_to_input_data = config['Bristol-City-bike']['Input-data']\n",
    "path_to_output_data = config['Bristol-City-bike']['Output-data']\n",
    "num_partition_kmeans = int(config['Bristol-City-bike']['Kmeans-level']) "
   ]
  },
  {
   "cell_type": "code",
   "execution_count": 62,
   "metadata": {},
   "outputs": [
    {
     "name": "stdout",
     "output_type": "stream",
     "text": [
      "+--------------------+----------+----------+--------------------+------+\n",
      "|             address|  latitude| longitude|                name|number|\n",
      "+--------------------+----------+----------+--------------------+------+\n",
      "|Lower River Tce /...|-27.482279|153.028723|122 - LOWER RIVER...|   122|\n",
      "|Main St / Darragh St| -27.47059|153.036046|91 - MAIN ST / DA...|    91|\n",
      "|Sydney St Ferry T...|-27.474531|153.042728|88 - SYDNEY ST FE...|    88|\n",
      "|Browne St / James St|-27.461881|153.046986|75 - BROWNE ST / ...|    75|\n",
      "|Kurilpa Point / M...|-27.469658|153.016696|98 - KURILPA POIN...|    98|\n",
      "|Montague Rd / Ski...| -27.48172| 153.00436|109 - MONTAGUE RD...|   109|\n",
      "|Macquarie St / Gu...|-27.493626|153.001482|149 - MACQUARIE S...|   149|\n",
      "|Bi-centennial Bik...|-27.476076|153.002459|139 - BI-CENTENNI...|   139|\n",
      "|Sir William McGre...|-27.493963|153.011938|24 - SIR WILLIAM ...|    24|\n",
      "|Vulture St / Trib...|-27.482197|153.020894|117 - VULTURE ST ...|   117|\n",
      "|Lamington St / Re...|-27.465226|153.050864|73 - LAMINGTON ST...|    73|\n",
      "|King George Square 2|-27.468447|153.024662|1101 - KING GEORG...|  1101|\n",
      "| Mary St / George St|-27.473021|153.025988|23 - MARY STREET ...|    23|\n",
      "|McLachlan St / Wi...|-27.457825|153.036866|54 - MCLACHLAN ST...|    54|\n",
      "|       Grey St / QCA| -27.48148| 153.02368|  93 - GREY ST / QCA|    93|\n",
      "| Roma St / Turbot St|-27.467464|153.022094|31 - ROMA ST / TU...|    31|\n",
      "|Thynne Rd / Colle...|-27.499963|153.017633|97 - THYNNE RD / ...|    97|\n",
      "|Sandford St / Bri...|-27.490776|152.994747|147 - SANDFORD ST...|   147|\n",
      "|James St / Harcou...|-27.458199|153.041688|77 - JAMES ST / H...|    77|\n",
      "|Sidon St / Little...|-27.481808|153.025477|119 - SIDON ST / ...|   119|\n",
      "+--------------------+----------+----------+--------------------+------+\n",
      "only showing top 20 rows\n",
      "\n"
     ]
    }
   ],
   "source": [
    "# 3- Importer le json avec spark, en utilisant la variable path-to-input-data\n",
    "brisbane = spark.read.json(path_to_input_data)\n",
    "brisbane.show()"
   ]
  },
  {
   "cell_type": "code",
   "execution_count": 63,
   "metadata": {},
   "outputs": [
    {
     "name": "stdout",
     "output_type": "stream",
     "text": [
      "+----------+----------+\n",
      "|  latitude| longitude|\n",
      "+----------+----------+\n",
      "|-27.482279|153.028723|\n",
      "| -27.47059|153.036046|\n",
      "|-27.474531|153.042728|\n",
      "|-27.461881|153.046986|\n",
      "|-27.469658|153.016696|\n",
      "| -27.48172| 153.00436|\n",
      "|-27.493626|153.001482|\n",
      "|-27.476076|153.002459|\n",
      "|-27.493963|153.011938|\n",
      "|-27.482197|153.020894|\n",
      "|-27.465226|153.050864|\n",
      "|-27.468447|153.024662|\n",
      "|-27.473021|153.025988|\n",
      "|-27.457825|153.036866|\n",
      "| -27.48148| 153.02368|\n",
      "|-27.467464|153.022094|\n",
      "|-27.499963|153.017633|\n",
      "|-27.490776|152.994747|\n",
      "|-27.458199|153.041688|\n",
      "|-27.481808|153.025477|\n",
      "+----------+----------+\n",
      "only showing top 20 rows\n",
      "\n"
     ]
    }
   ],
   "source": [
    "# 4-créer un nouveau data frame Kmeans-df contenant seulement les variables latitude et longitude.\n",
    "Kmeansdf = brisbane.select(\"latitude\",\"longitude\")\n",
    "Kmeansdf.show()"
   ]
  },
  {
   "cell_type": "code",
   "execution_count": 64,
   "metadata": {},
   "outputs": [],
   "source": [
    "# 5- Kmeans\n",
    "features = ( \"longitude\" ,\"latitude\")\n",
    "kmeans = KMeans (). setK ( num_partition_kmeans ). setSeed ( 1 )\n",
    "assembler = VectorAssembler ( inputCols = features , outputCol = \"features\" )\n",
    "dataset = assembler . transform ( Kmeansdf )\n",
    "model = kmeans.fit( dataset )\n",
    "fitted = model.transform( dataset )"
   ]
  },
  {
   "cell_type": "code",
   "execution_count": 65,
   "metadata": {},
   "outputs": [
    {
     "name": "stdout",
     "output_type": "stream",
     "text": [
      "+----------+----------+--------------------+----------+\n",
      "|  latitude| longitude|            features|prediction|\n",
      "+----------+----------+--------------------+----------+\n",
      "|-27.482279|153.028723|[153.028723,-27.4...|         2|\n",
      "| -27.47059|153.036046|[153.036046,-27.4...|         2|\n",
      "|-27.474531|153.042728|[153.042728,-27.4...|         1|\n",
      "|-27.461881|153.046986|[153.046986,-27.4...|         1|\n",
      "|-27.469658|153.016696|[153.016696,-27.4...|         2|\n",
      "| -27.48172| 153.00436|[153.00436,-27.48...|         0|\n",
      "|-27.493626|153.001482|[153.001482,-27.4...|         0|\n",
      "|-27.476076|153.002459|[153.002459,-27.4...|         0|\n",
      "|-27.493963|153.011938|[153.011938,-27.4...|         0|\n",
      "|-27.482197|153.020894|[153.020894,-27.4...|         2|\n",
      "|-27.465226|153.050864|[153.050864,-27.4...|         1|\n",
      "|-27.468447|153.024662|[153.024662,-27.4...|         2|\n",
      "|-27.473021|153.025988|[153.025988,-27.4...|         2|\n",
      "|-27.457825|153.036866|[153.036866,-27.4...|         1|\n",
      "| -27.48148| 153.02368|[153.02368,-27.48...|         2|\n",
      "|-27.467464|153.022094|[153.022094,-27.4...|         2|\n",
      "|-27.499963|153.017633|[153.017633,-27.4...|         0|\n",
      "|-27.490776|152.994747|[152.994747,-27.4...|         0|\n",
      "|-27.458199|153.041688|[153.041688,-27.4...|         1|\n",
      "|-27.481808|153.025477|[153.025477,-27.4...|         2|\n",
      "+----------+----------+--------------------+----------+\n",
      "only showing top 20 rows\n",
      "\n"
     ]
    },
    {
     "data": {
      "text/plain": [
       "['latitude', 'longitude', 'features', 'prediction']"
      ]
     },
     "execution_count": 65,
     "metadata": {},
     "output_type": "execute_result"
    }
   ],
   "source": [
    "# 6- Les noms des colonnes de fitted.  \n",
    "fitted.show()\n",
    "fitted\n",
    "\n",
    "# vérifier qu'Il s’agit bien de longitude, latitude, features et predictions.\n",
    "fitted.columns\n"
   ]
  },
  {
   "cell_type": "code",
   "execution_count": 75,
   "metadata": {},
   "outputs": [],
   "source": [
    "from pyspark.context import SparkContext\n",
    "from pyspark.sql.functions import *\n",
    "from pyspark.sql.types import *"
   ]
  },
  {
   "cell_type": "code",
   "execution_count": 76,
   "metadata": {},
   "outputs": [
    {
     "name": "stdout",
     "output_type": "stream",
     "text": [
      "+----------+-------------------+------------------+\n",
      "|prediction|       LatitudeMean|     LongitudeMean|\n",
      "+----------+-------------------+------------------+\n",
      "|         1|-27.460240636363633|153.04186302272726|\n",
      "|         2| -27.47255990624999|   153.02594553125|\n",
      "|         0|-27.481218536585374|153.00572882926832|\n",
      "+----------+-------------------+------------------+\n",
      "\n"
     ]
    }
   ],
   "source": [
    "#DSL\n",
    "fitted.groupBy(\"prediction\") \\\n",
    "    .agg(mean('latitude')\\\n",
    "    .alias('LatitudeMean'),mean('longitude')\\\n",
    "    .alias('LongitudeMean')\\\n",
    "        )\\\n",
    "    .show()"
   ]
  },
  {
   "cell_type": "code",
   "execution_count": 79,
   "metadata": {},
   "outputs": [
    {
     "name": "stdout",
     "output_type": "stream",
     "text": [
      "+----------+-------------------+------------------+\n",
      "|prediction|       LatitudeMean|     LongitudeMean|\n",
      "+----------+-------------------+------------------+\n",
      "|         1|-27.460240636363633|153.04186302272726|\n",
      "|         2| -27.47255990624999|   153.02594553125|\n",
      "|         0|-27.481218536585374|153.00572882926832|\n",
      "+----------+-------------------+------------------+\n",
      "\n"
     ]
    }
   ],
   "source": [
    "#SQL\n",
    "# transformation du dataframe en table\n",
    "fitted.createOrReplaceTempView(\"fittedSQL\") \n",
    "spark.sql(\"\"\"select prediction,\n",
    "  mean(latitude) as LatitudeMean,\n",
    "    mean(longitude) as LongitudeMean\n",
    "    from fittedSQL\n",
    "    group by prediction\"\"\").show()"
   ]
  },
  {
   "cell_type": "code",
   "execution_count": 83,
   "metadata": {},
   "outputs": [
    {
     "name": "stdout",
     "output_type": "stream",
     "text": [
      "+----------+----------+----------+\n",
      "|  latitude| longitude|prediction|\n",
      "+----------+----------+----------+\n",
      "|-27.482279|153.028723|         2|\n",
      "| -27.47059|153.036046|         2|\n",
      "|-27.474531|153.042728|         1|\n",
      "|-27.461881|153.046986|         1|\n",
      "|-27.469658|153.016696|         2|\n",
      "| -27.48172| 153.00436|         0|\n",
      "|-27.493626|153.001482|         0|\n",
      "|-27.476076|153.002459|         0|\n",
      "|-27.493963|153.011938|         0|\n",
      "|-27.482197|153.020894|         2|\n",
      "|-27.465226|153.050864|         1|\n",
      "|-27.468447|153.024662|         2|\n",
      "|-27.473021|153.025988|         2|\n",
      "|-27.457825|153.036866|         1|\n",
      "| -27.48148| 153.02368|         2|\n",
      "|-27.467464|153.022094|         2|\n",
      "|-27.499963|153.017633|         0|\n",
      "|-27.490776|152.994747|         0|\n",
      "|-27.458199|153.041688|         1|\n",
      "|-27.481808|153.025477|         2|\n",
      "+----------+----------+----------+\n",
      "only showing top 20 rows\n",
      "\n"
     ]
    }
   ],
   "source": [
    "# 9- Elimination de la colonne features\n",
    "NewData=fitted.drop(\"features\")\n",
    "NewData.show()    "
   ]
  },
  {
   "cell_type": "code",
   "execution_count": null,
   "metadata": {},
   "outputs": [],
   "source": []
  }
 ],
 "metadata": {
  "kernelspec": {
   "display_name": "Python 3",
   "language": "python",
   "name": "python3"
  },
  "language_info": {
   "codemirror_mode": {
    "name": "ipython",
    "version": 3
   },
   "file_extension": ".py",
   "mimetype": "text/x-python",
   "name": "python",
   "nbconvert_exporter": "python",
   "pygments_lexer": "ipython3",
   "version": "3.8.3"
  }
 },
 "nbformat": 4,
 "nbformat_minor": 4
}
